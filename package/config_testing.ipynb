{
 "cells": [
  {
   "cell_type": "code",
   "execution_count": null,
   "metadata": {
    "collapsed": false
   },
   "outputs": [
    {
     "name": "stdout",
     "output_type": "stream",
     "text": [
      "The following sheets are available\n",
      "All Sherman RTI - 1YdW3D_z5cuR9jYpoyakaJai24KZqJ2PQn7OeRQj7v6A\n",
      "1801Student - 1eaxhv9THviDCtt9ogplVGJEKl_NKPNCx1y-FxYqjNFc\n",
      "1801Staff - 1gG_mW4XBWSINVXSYZ5PbwdZrRXboDr2BhWWbmq30UGE\n",
      "1801accounts - 10JsGdSggwX3vIecX-EVOC8fAj3kihtc2XL1ITdyOLgk\n",
      "MontesoriCanvas - 1S9vGf-V_8T2MBUNwHWIb0D3ge2_OdeMqnHS3Ak2wjgo\n",
      "Students With Email Problems in Canvas Login - 1ODSbAz1ebsK-OkFyBzMzKi1Mk5i2y4ia4P_0OGsyPyY\n",
      "terms - 1g4wuwXObHZHtoOFzpFBswoNuNVmGp72XeYGo1fUTxkw\n",
      "StudentEnr - 1Ng6CzyKCtBUvvGjPuUq9aann5RdrDAfINaOPMf0qCCY\n",
      "That's the List!\n",
      "Type in very carefully the Spreadsheet you want to import.All Sherman RTI\n",
      "What is the school account number?180\n",
      "Done with CSV Files. Files located in X:/Inbox/\n"
     ]
    }
   ],
   "source": [
    "##Restart Kernal and Run this.\n",
    "import run_canvas_import"
   ]
  },
  {
   "cell_type": "code",
   "execution_count": null,
   "metadata": {
    "collapsed": false
   },
   "outputs": [],
   "source": []
  },
  {
   "cell_type": "code",
   "execution_count": null,
   "metadata": {
    "collapsed": true
   },
   "outputs": [],
   "source": [
    "sis_import_status()"
   ]
  },
  {
   "cell_type": "code",
   "execution_count": null,
   "metadata": {
    "collapsed": true
   },
   "outputs": [],
   "source": []
  },
  {
   "cell_type": "code",
   "execution_count": null,
   "metadata": {
    "collapsed": true
   },
   "outputs": [],
   "source": []
  },
  {
   "cell_type": "code",
   "execution_count": null,
   "metadata": {
    "collapsed": true
   },
   "outputs": [],
   "source": []
  },
  {
   "cell_type": "code",
   "execution_count": null,
   "metadata": {
    "collapsed": true
   },
   "outputs": [],
   "source": []
  },
  {
   "cell_type": "code",
   "execution_count": null,
   "metadata": {
    "collapsed": true
   },
   "outputs": [],
   "source": []
  },
  {
   "cell_type": "code",
   "execution_count": null,
   "metadata": {
    "collapsed": true
   },
   "outputs": [],
   "source": []
  },
  {
   "cell_type": "code",
   "execution_count": null,
   "metadata": {
    "collapsed": false
   },
   "outputs": [],
   "source": [
    "#config.py file\n",
    "\n",
    "import google_connect\n",
    "import csv_creation\n",
    "\n",
    "#Requires Python 3\n",
    "\n",
    "#You will need to obtain a Google Secrets file as a json file. Please place this in the Tokens folder.\n",
    "#It is best practice to use a service Google account\n",
    "#Directions on obtaining that file can be found at http://pbpython.com/pandas-google-forms-part1.html\n",
    "\n",
    "#These lines import some spreadsheets from Google that are imported from Skyward each day.\n",
    "#The imports first get a student list and then a staff list and then removed duplicates\n",
    "#The two dataframes are then combined into one so that any lookups of the student user_id can be made from one dataframe\n",
    "canvasStudentImport = importSheet(\"1801Student\")\n",
    "canvasStudentImport.drop_duplicates(inplace = True)\n",
    "canvasStudentIndexed = canvasStudentImport.set_index(['login_id'])\n",
    "\n",
    "canvasStaffImport = importSheet(\"1801Staff\")\n",
    "canvasStaffImport.drop_duplicates(inplace = True)\n",
    "canvasStaffIndexed = canvasStaffImport.set_index(['login_id'])\n",
    "\n",
    "\n",
    "\n",
    "canvasStaffandStudentsIndexed = pd.concat([canvasStudentIndexed, canvasStaffIndexed], axis=0)"
   ]
  }
 ],
 "metadata": {
  "kernelspec": {
   "display_name": "Python 3",
   "language": "python",
   "name": "python3"
  },
  "language_info": {
   "codemirror_mode": {
    "name": "ipython",
    "version": 3
   },
   "file_extension": ".py",
   "mimetype": "text/x-python",
   "name": "python",
   "nbconvert_exporter": "python",
   "pygments_lexer": "ipython3",
   "version": "3.4.3"
  }
 },
 "nbformat": 4,
 "nbformat_minor": 0
}
