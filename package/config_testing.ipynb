{
 "cells": [
  {
   "cell_type": "code",
   "execution_count": null,
   "metadata": {
    "collapsed": false
   },
   "outputs": [],
   "source": [
    "##Normally you have to restart the Kernal in order to import the packages again. These two lines keep you from doing it.\n",
    "%load_ext autoreload\n",
    "%autoreload 2\n",
    "\n"
   ]
  },
  {
   "cell_type": "code",
   "execution_count": 1,
   "metadata": {
    "collapsed": false
   },
   "outputs": [
    {
     "name": "stdout",
     "output_type": "stream",
     "text": [
      "The following sheets are available\n",
      "All Sherman RTI Account Number 143 - 1YdW3D_z5cuR9jYpoyakaJai24KZqJ2PQn7OeRQj7v6A\n",
      "1801Student - 16w7WIPL_u7kPUjU_uOJd_OmYU0jrguXvG1ySZrKZbcY\n",
      "1801Staff - 1VfzSm7x4lXI-Vr2nQVePlckIzFmRIy6nyr72f7WKjMQ\n",
      "1801accounts - 1HKPoAjt-fzAB40EMV0yPls3-r42iQ8AfMmacCwBknAU\n",
      "MontesoriCanvas - 1S9vGf-V_8T2MBUNwHWIb0D3ge2_OdeMqnHS3Ak2wjgo\n",
      "Students With Email Problems in Canvas Login - 1ODSbAz1ebsK-OkFyBzMzKi1Mk5i2y4ia4P_0OGsyPyY\n",
      "terms - 1g4wuwXObHZHtoOFzpFBswoNuNVmGp72XeYGo1fUTxkw\n",
      "StudentEnr - 1Ng6CzyKCtBUvvGjPuUq9aann5RdrDAfINaOPMf0qCCY\n",
      "That's the List!\n",
      "Type in very carefully the Spreadsheet you want to import.All Sherman RTI Account Number 143\n",
      "What is the school account number?143\n",
      "Done with CSV Files. Files located in C:\\Users\\dswanstrom\\Google Drive\\Canvas Projects\\Canvas-GoogleApps-with-Python\\package\\CSVZipFiles\\\n",
      "SIS Import Complete\n",
      "Zip file created\n",
      "Hit Enter to Exit\n"
     ]
    }
   ],
   "source": [
    "import run_canvas_import"
   ]
  },
  {
   "cell_type": "code",
   "execution_count": 6,
   "metadata": {
    "collapsed": false
   },
   "outputs": [
    {
     "ename": "NameError",
     "evalue": "name 'csvExportLocation' is not defined",
     "output_type": "error",
     "traceback": [
      "\u001b[1;31m---------------------------------------------------------------------------\u001b[0m",
      "\u001b[1;31mNameError\u001b[0m                                 Traceback (most recent call last)",
      "\u001b[1;32m<ipython-input-6-ab687ff83f57>\u001b[0m in \u001b[0;36m<module>\u001b[1;34m()\u001b[0m\n\u001b[0;32m      1\u001b[0m \u001b[1;32mimport\u001b[0m \u001b[0mzipfile\u001b[0m\u001b[1;33m\u001b[0m\u001b[0m\n\u001b[1;32m----> 2\u001b[1;33m \u001b[0mcanvasZipfile\u001b[0m \u001b[1;33m=\u001b[0m \u001b[0mzipfile\u001b[0m\u001b[1;33m.\u001b[0m\u001b[0mZipFile\u001b[0m\u001b[1;33m(\u001b[0m\u001b[1;34m'{csvExportLocation}courses.zip'\u001b[0m\u001b[1;33m.\u001b[0m\u001b[0mformat\u001b[0m\u001b[1;33m(\u001b[0m\u001b[0mcsvExportLocation\u001b[0m \u001b[1;33m=\u001b[0m \u001b[0mcsvExportLocation\u001b[0m\u001b[1;33m)\u001b[0m\u001b[1;33m,\u001b[0m \u001b[1;34m'w'\u001b[0m\u001b[1;33m)\u001b[0m\u001b[1;33m\u001b[0m\u001b[0m\n\u001b[0m\u001b[0;32m      3\u001b[0m \u001b[1;33m\u001b[0m\u001b[0m\n\u001b[0;32m      4\u001b[0m canvasZipfile.write('{csvExportLocation}enrollments.csv'.format(csvExportLocation = csvExportLocation),\n\u001b[0;32m      5\u001b[0m                     'courses.zip', compress_type=zipfile.ZIP_DEFLATED)\n",
      "\u001b[1;31mNameError\u001b[0m: name 'csvExportLocation' is not defined"
     ]
    }
   ],
   "source": [
    "import zipfile\n",
    "canvasZipfile = zipfile.ZipFile('{csvExportLocation}courses.zip'.format(csvExportLocation = csvExportLocation), 'w')\n",
    "    \n",
    "canvasZipfile.write('{csvExportLocation}enrollments.csv'.format(csvExportLocation = csvExportLocation),\n",
    "                    'courses.zip', compress_type=zipfile.ZIP_DEFLATED)\n",
    "canvasZipfile.close()"
   ]
  },
  {
   "cell_type": "code",
   "execution_count": 2,
   "metadata": {
    "collapsed": false
   },
   "outputs": [
    {
     "ename": "NameError",
     "evalue": "name 'createZip' is not defined",
     "output_type": "error",
     "traceback": [
      "\u001b[1;31m---------------------------------------------------------------------------\u001b[0m",
      "\u001b[1;31mNameError\u001b[0m                                 Traceback (most recent call last)",
      "\u001b[1;32m<ipython-input-2-82fca5718878>\u001b[0m in \u001b[0;36m<module>\u001b[1;34m()\u001b[0m\n\u001b[1;32m----> 1\u001b[1;33m \u001b[0mcreateZip\u001b[0m\u001b[1;33m(\u001b[0m\u001b[1;33m)\u001b[0m\u001b[1;33m\u001b[0m\u001b[0m\n\u001b[0m",
      "\u001b[1;31mNameError\u001b[0m: name 'createZip' is not defined"
     ]
    }
   ],
   "source": [
    "createZip()\n"
   ]
  },
  {
   "cell_type": "code",
   "execution_count": null,
   "metadata": {
    "collapsed": false
   },
   "outputs": [],
   "source": [
    "import zipfile\n",
    "import os\n",
    "fn = os.path.join(os.path.dirname(__file__), 'my_file')\n",
    "csvExportLocation = \"X:/Inbox/\"\n",
    "#canvasZipfile = zipfile.ZipFile('{csvExportLocation}courses.zip'.format(csvExportLocation = csvExportLocation), 'w')\n",
    "#canvasZipfile.write('{csvExportLocation}courses.csv'.format(csvExportLocation = csvExportLocation), compress_type=zipfile.ZIP_DEFLATED)\n",
    "canvasZipfile = zipfile.ZipFile('../CSVFiles/courses2.zip'.format(csvExportLocation = csvExportLocation), 'w')\n",
    "canvasZipfile.write('../CSVFiles/courses.csv', compress_type=zipfile.ZIP_DEFLATED)\n",
    "#canvasZipfile.write('enrollments.csv', compress_type=zipfile.ZIP_DEFLATED)\n",
    "\n",
    "canvasZipfile.close()"
   ]
  },
  {
   "cell_type": "code",
   "execution_count": null,
   "metadata": {
    "collapsed": true
   },
   "outputs": [],
   "source": [
    "canvasZipfile.close()"
   ]
  },
  {
   "cell_type": "code",
   "execution_count": null,
   "metadata": {
    "collapsed": false
   },
   "outputs": [],
   "source": [
    "       \n"
   ]
  },
  {
   "cell_type": "code",
   "execution_count": null,
   "metadata": {
    "collapsed": false
   },
   "outputs": [],
   "source": []
  },
  {
   "cell_type": "code",
   "execution_count": null,
   "metadata": {
    "collapsed": false
   },
   "outputs": [],
   "source": []
  },
  {
   "cell_type": "code",
   "execution_count": null,
   "metadata": {
    "collapsed": false
   },
   "outputs": [],
   "source": []
  },
  {
   "cell_type": "code",
   "execution_count": null,
   "metadata": {
    "collapsed": false
   },
   "outputs": [],
   "source": [
    "#config.py file\n",
    "\n",
    "import google_connect\n",
    "import csv_creation\n",
    "\n",
    "#Requires Python 3\n",
    "\n",
    "#You will need to obtain a Google Secrets file as a json file. Please place this in the Tokens folder.\n",
    "#It is best practice to use a service Google account\n",
    "#Directions on obtaining that file can be found at http://pbpython.com/pandas-google-forms-part1.html\n",
    "\n",
    "#These lines import some spreadsheets from Google that are imported from Skyward each day.\n",
    "#The imports first get a student list and then a staff list and then removed duplicates\n",
    "#The two dataframes are then combined into one so that any lookups of the student user_id can be made from one dataframe\n",
    "canvasStudentImport = importSheet(\"1801Student\")\n",
    "canvasStudentImport.drop_duplicates(inplace = True)\n",
    "canvasStudentIndexed = canvasStudentImport.set_index(['login_id'])\n",
    "\n",
    "canvasStaffImport = importSheet(\"1801Staff\")\n",
    "canvasStaffImport.drop_duplicates(inplace = True)\n",
    "canvasStaffIndexed = canvasStaffImport.set_index(['login_id'])\n",
    "\n",
    "\n",
    "\n",
    "canvasStaffandStudentsIndexed = pd.concat([canvasStudentIndexed, canvasStaffIndexed], axis=0)"
   ]
  }
 ],
 "metadata": {
  "kernelspec": {
   "display_name": "Python 3",
   "language": "python",
   "name": "python3"
  },
  "language_info": {
   "codemirror_mode": {
    "name": "ipython",
    "version": 3
   },
   "file_extension": ".py",
   "mimetype": "text/x-python",
   "name": "python",
   "nbconvert_exporter": "python",
   "pygments_lexer": "ipython3",
   "version": "3.4.3"
  }
 },
 "nbformat": 4,
 "nbformat_minor": 0
}
