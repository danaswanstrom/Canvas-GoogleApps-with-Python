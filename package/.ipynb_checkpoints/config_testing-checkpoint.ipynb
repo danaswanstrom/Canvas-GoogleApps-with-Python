{
 "cells": [
  {
   "cell_type": "code",
   "execution_count": null,
   "metadata": {
    "collapsed": false
   },
   "outputs": [],
   "source": [
    "##Restart Kernal and Run this.\n",
    "import run_canvas_import"
   ]
  },
  {
   "cell_type": "code",
   "execution_count": 1,
   "metadata": {
    "collapsed": false
   },
   "outputs": [],
   "source": [
    "from canvas_api import *"
   ]
  },
  {
   "cell_type": "code",
   "execution_count": 2,
   "metadata": {
    "collapsed": false
   },
   "outputs": [
    {
     "ename": "UnboundLocalError",
     "evalue": "local variable 'canvasZipfile' referenced before assignment",
     "output_type": "error",
     "traceback": [
      "\u001b[1;31m---------------------------------------------------------------------------\u001b[0m",
      "\u001b[1;31mUnboundLocalError\u001b[0m                         Traceback (most recent call last)",
      "\u001b[1;32m<ipython-input-2-2219ef806d73>\u001b[0m in \u001b[0;36m<module>\u001b[1;34m()\u001b[0m\n\u001b[1;32m----> 1\u001b[1;33m \u001b[0mcreateZip\u001b[0m\u001b[1;33m(\u001b[0m\u001b[1;34m'courses.csv'\u001b[0m\u001b[1;33m)\u001b[0m\u001b[1;33m\u001b[0m\u001b[0m\n\u001b[0m",
      "\u001b[1;32mC:\\Users\\dswanstrom\\Google Drive\\Canvas Projects\\Canvas-GoogleApps-with-Python\\package\\canvas_api.py\u001b[0m in \u001b[0;36mcreateZip\u001b[1;34m(filenameCSV)\u001b[0m\n\u001b[0;32m     13\u001b[0m \u001b[1;31m### Post csv or zip file for Sis Import. Just change the file name.\u001b[0m\u001b[1;33m\u001b[0m\u001b[1;33m\u001b[0m\u001b[0m\n\u001b[0;32m     14\u001b[0m \u001b[1;32mdef\u001b[0m \u001b[0mcreateZip\u001b[0m\u001b[1;33m(\u001b[0m\u001b[0mfilenameCSV\u001b[0m\u001b[1;33m)\u001b[0m\u001b[1;33m:\u001b[0m\u001b[1;33m\u001b[0m\u001b[0m\n\u001b[1;32m---> 15\u001b[1;33m     \u001b[0mcanvasZipfile\u001b[0m \u001b[1;33m=\u001b[0m \u001b[0mcanvasZipfile\u001b[0m\u001b[1;33m.\u001b[0m\u001b[0mZipFile\u001b[0m\u001b[1;33m(\u001b[0m\u001b[0mcsvExportLocation\u001b[0m\u001b[1;33m,\u001b[0m \u001b[1;34m'w'\u001b[0m\u001b[1;33m)\u001b[0m\u001b[1;33m\u001b[0m\u001b[0m\n\u001b[0m\u001b[0;32m     16\u001b[0m     \u001b[0mcanvasZipfile\u001b[0m\u001b[1;33m.\u001b[0m\u001b[0mwrite\u001b[0m\u001b[1;33m(\u001b[0m\u001b[1;34m'{csvExportLocation}courses.csv'\u001b[0m\u001b[1;33m.\u001b[0m\u001b[0mformat\u001b[0m\u001b[1;33m(\u001b[0m\u001b[0mcsvExportLocation\u001b[0m \u001b[1;33m=\u001b[0m \u001b[0mcsvExportLocation\u001b[0m\u001b[1;33m)\u001b[0m\u001b[1;33m,\u001b[0m \u001b[0mcompress_type\u001b[0m\u001b[1;33m=\u001b[0m\u001b[0mzipfile\u001b[0m\u001b[1;33m.\u001b[0m\u001b[0mZIP_DEFLATED\u001b[0m\u001b[1;33m)\u001b[0m\u001b[1;33m\u001b[0m\u001b[0m\n\u001b[0;32m     17\u001b[0m \u001b[1;33m\u001b[0m\u001b[0m\n",
      "\u001b[1;31mUnboundLocalError\u001b[0m: local variable 'canvasZipfile' referenced before assignment"
     ]
    }
   ],
   "source": [
    "createZip('courses.csv')"
   ]
  },
  {
   "cell_type": "code",
   "execution_count": 15,
   "metadata": {
    "collapsed": false
   },
   "outputs": [
    {
     "ename": "NameError",
     "evalue": "name '__file__' is not defined",
     "output_type": "error",
     "traceback": [
      "\u001b[1;31m---------------------------------------------------------------------------\u001b[0m",
      "\u001b[1;31mNameError\u001b[0m                                 Traceback (most recent call last)",
      "\u001b[1;32m<ipython-input-15-92142aae668d>\u001b[0m in \u001b[0;36m<module>\u001b[1;34m()\u001b[0m\n\u001b[0;32m      1\u001b[0m \u001b[1;32mimport\u001b[0m \u001b[0mzipfile\u001b[0m\u001b[1;33m\u001b[0m\u001b[0m\n\u001b[0;32m      2\u001b[0m \u001b[1;32mimport\u001b[0m \u001b[0mos\u001b[0m\u001b[1;33m\u001b[0m\u001b[0m\n\u001b[1;32m----> 3\u001b[1;33m \u001b[0mfn\u001b[0m \u001b[1;33m=\u001b[0m \u001b[0mos\u001b[0m\u001b[1;33m.\u001b[0m\u001b[0mpath\u001b[0m\u001b[1;33m.\u001b[0m\u001b[0mjoin\u001b[0m\u001b[1;33m(\u001b[0m\u001b[0mos\u001b[0m\u001b[1;33m.\u001b[0m\u001b[0mpath\u001b[0m\u001b[1;33m.\u001b[0m\u001b[0mdirname\u001b[0m\u001b[1;33m(\u001b[0m\u001b[0m__file__\u001b[0m\u001b[1;33m)\u001b[0m\u001b[1;33m,\u001b[0m \u001b[1;34m'my_file'\u001b[0m\u001b[1;33m)\u001b[0m\u001b[1;33m\u001b[0m\u001b[0m\n\u001b[0m\u001b[0;32m      4\u001b[0m \u001b[0mcsvExportLocation\u001b[0m \u001b[1;33m=\u001b[0m \u001b[1;34m\"X:/Inbox/\"\u001b[0m\u001b[1;33m\u001b[0m\u001b[0m\n\u001b[0;32m      5\u001b[0m \u001b[1;31m#canvasZipfile = zipfile.ZipFile('{csvExportLocation}courses.zip'.format(csvExportLocation = csvExportLocation), 'w')\u001b[0m\u001b[1;33m\u001b[0m\u001b[1;33m\u001b[0m\u001b[0m\n",
      "\u001b[1;31mNameError\u001b[0m: name '__file__' is not defined"
     ]
    }
   ],
   "source": [
    "import zipfile\n",
    "import os\n",
    "fn = os.path.join(os.path.dirname(__file__), 'my_file')\n",
    "csvExportLocation = \"X:/Inbox/\"\n",
    "#canvasZipfile = zipfile.ZipFile('{csvExportLocation}courses.zip'.format(csvExportLocation = csvExportLocation), 'w')\n",
    "#canvasZipfile.write('{csvExportLocation}courses.csv'.format(csvExportLocation = csvExportLocation), compress_type=zipfile.ZIP_DEFLATED)\n",
    "canvasZipfile = zipfile.ZipFile('../CSVFiles/courses2.zip'.format(csvExportLocation = csvExportLocation), 'w')\n",
    "canvasZipfile.write('../CSVFiles/courses.csv', compress_type=zipfile.ZIP_DEFLATED)\n",
    "#canvasZipfile.write('enrollments.csv', compress_type=zipfile.ZIP_DEFLATED)\n",
    "\n",
    "canvasZipfile.close()"
   ]
  },
  {
   "cell_type": "code",
   "execution_count": 10,
   "metadata": {
    "collapsed": true
   },
   "outputs": [],
   "source": [
    "canvasZipfile.close()"
   ]
  },
  {
   "cell_type": "code",
   "execution_count": 18,
   "metadata": {
    "collapsed": false
   },
   "outputs": [
    {
     "ename": "SyntaxError",
     "evalue": "Missing parentheses in call to 'print' (<ipython-input-18-7e1bb98971b6>, line 4)",
     "output_type": "error",
     "traceback": [
      "\u001b[1;36m  File \u001b[1;32m\"<ipython-input-18-7e1bb98971b6>\"\u001b[1;36m, line \u001b[1;32m4\u001b[0m\n\u001b[1;33m    print sys.argv[0]\u001b[0m\n\u001b[1;37m            ^\u001b[0m\n\u001b[1;31mSyntaxError\u001b[0m\u001b[1;31m:\u001b[0m Missing parentheses in call to 'print'\n"
     ]
    }
   ],
   "source": [
    "import sys\n",
    "import os\n",
    "\n",
    "print sys.argv[0]             \n"
   ]
  },
  {
   "cell_type": "code",
   "execution_count": 22,
   "metadata": {
    "collapsed": false
   },
   "outputs": [
    {
     "name": "stdout",
     "output_type": "stream",
     "text": [
      "\n",
      "full path = C:\\Users\\dswanstrom\\Google Drive\\Canvas Projects\\Canvas-GoogleApps-with-Python\\package\n"
     ]
    }
   ],
   "source": [
    "import sys\n",
    "import os\n",
    "pathname = os.path.dirname('config_testing.ipynb')        \n",
    "print (pathname)\n",
    "print ('full path =', os.path.abspath(pathname))"
   ]
  },
  {
   "cell_type": "code",
   "execution_count": null,
   "metadata": {
    "collapsed": true
   },
   "outputs": [],
   "source": []
  },
  {
   "cell_type": "code",
   "execution_count": null,
   "metadata": {
    "collapsed": true
   },
   "outputs": [],
   "source": []
  },
  {
   "cell_type": "code",
   "execution_count": null,
   "metadata": {
    "collapsed": false
   },
   "outputs": [],
   "source": [
    "#config.py file\n",
    "\n",
    "import google_connect\n",
    "import csv_creation\n",
    "\n",
    "#Requires Python 3\n",
    "\n",
    "#You will need to obtain a Google Secrets file as a json file. Please place this in the Tokens folder.\n",
    "#It is best practice to use a service Google account\n",
    "#Directions on obtaining that file can be found at http://pbpython.com/pandas-google-forms-part1.html\n",
    "\n",
    "#These lines import some spreadsheets from Google that are imported from Skyward each day.\n",
    "#The imports first get a student list and then a staff list and then removed duplicates\n",
    "#The two dataframes are then combined into one so that any lookups of the student user_id can be made from one dataframe\n",
    "canvasStudentImport = importSheet(\"1801Student\")\n",
    "canvasStudentImport.drop_duplicates(inplace = True)\n",
    "canvasStudentIndexed = canvasStudentImport.set_index(['login_id'])\n",
    "\n",
    "canvasStaffImport = importSheet(\"1801Staff\")\n",
    "canvasStaffImport.drop_duplicates(inplace = True)\n",
    "canvasStaffIndexed = canvasStaffImport.set_index(['login_id'])\n",
    "\n",
    "\n",
    "\n",
    "canvasStaffandStudentsIndexed = pd.concat([canvasStudentIndexed, canvasStaffIndexed], axis=0)"
   ]
  }
 ],
 "metadata": {
  "kernelspec": {
   "display_name": "Python 3",
   "language": "python",
   "name": "python3"
  },
  "language_info": {
   "codemirror_mode": {
    "name": "ipython",
    "version": 3
   },
   "file_extension": ".py",
   "mimetype": "text/x-python",
   "name": "python",
   "nbconvert_exporter": "python",
   "pygments_lexer": "ipython3",
   "version": "3.4.3"
  }
 },
 "nbformat": 4,
 "nbformat_minor": 0
}
