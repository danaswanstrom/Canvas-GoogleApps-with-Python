{
 "cells": [
  {
   "cell_type": "code",
   "execution_count": 57,
   "metadata": {
    "collapsed": true
   },
   "outputs": [],
   "source": [
    "import requests\n",
    "import json\n",
    "from requests_oauthlib import OAuth2Session\n",
    "csvExportLocation = \"G:/Inbox/\"\n",
    "#token = \"5278~GXm0upnCxdVLtfWXB1zDLK6fT5fm8PwaccMB3vjoEyD52dsA2mnbsQSnF0ioQrKg\"\n",
    "token = \"5278~XiOGA1DzWNO1dYvtHtgbHOcIGSlYQI2HVghE3EcnoEBlnF0H3kTo3cDI10DdPm1K\"\n",
    "account_id = 1\n",
    "base_api_url = 'https://ecasd.test.instructure.com/api/'\n",
    "#?????canvas = OAuth2Session(r'client_id', token=r'token')"
   ]
  },
  {
   "cell_type": "code",
   "execution_count": 58,
   "metadata": {
    "collapsed": false
   },
   "outputs": [
    {
     "name": "stdout",
     "output_type": "stream",
     "text": [
      "Canvas Demo Courses\n",
      "Manually-Created Courses\n",
      "Sandbox\n",
      "Canvas Fast Track\n",
      "EC ACADEMY-DO NOT USE\n",
      "Second Avenue School\n",
      "OXFORD AVE-DO NOT USE\n",
      "Montessori Charter School\n",
      "McKinley Charter School\n",
      "Flynn Elementary\n"
     ]
    }
   ],
   "source": [
    "### Get list of sub accounts\n",
    "path = 'v1/accounts/{account_id}/sub_accounts'\n",
    "url = base_api_url + path.format(account_id=account_id)\n",
    "#url = 'https://ecasd.beta.instructure.com:443/api/v1/accounts/1/sub_accounts'\n",
    "headers = {'Authorization':'Bearer {token}'.format(token=token)}\n",
    "r = requests.get(url, headers=headers)\n",
    "for account in r.json():\n",
    "    print(account[u'name'])\n"
   ]
  },
  {
   "cell_type": "code",
   "execution_count": 61,
   "metadata": {
    "collapsed": false
   },
   "outputs": [],
   "source": [
    "### Post csv or zip file for Sis Import. Just change the file name.\n",
    "path = 'v1/accounts/{account_id}/sis_imports'\n",
    "url = base_api_url + path.format(account_id=account_id)\n",
    "files = {'attachment': open('G:/Inbox/courses.csv', 'rb')}\n",
    "\n",
    "headers = {'Authorization':'Bearer {token}'.format(token=token)}\n",
    "res = requests.post(url, files=files, headers = headers)\n"
   ]
  },
  {
   "cell_type": "code",
   "execution_count": 43,
   "metadata": {
    "collapsed": false
   },
   "outputs": [],
   "source": [
    "def sis_import_status():\n",
    "    \"\"\"\n",
    "    Will give the status of the last sis Import\n",
    "    \"\"\"\n",
    "    ### Get status of last SIS imports\n",
    "    path = 'v1/accounts/{account_id}/sis_imports'\n",
    "    url = base_api_url + path.format(account_id=account_id)\n",
    "    headers = {'Authorization':'Bearer {token}'.format(token=token)}\n",
    "    r = requests.get(url, headers=headers)\n",
    "    rJson = r.json()\n",
    "    print(rJson['sis_imports'][0])\n",
    "    return print('Thats It')\n",
    "\n",
    "\n"
   ]
  },
  {
   "cell_type": "code",
   "execution_count": null,
   "metadata": {
    "collapsed": true
   },
   "outputs": [],
   "source": []
  },
  {
   "cell_type": "code",
   "execution_count": null,
   "metadata": {
    "collapsed": true
   },
   "outputs": [],
   "source": []
  },
  {
   "cell_type": "code",
   "execution_count": null,
   "metadata": {
    "collapsed": true
   },
   "outputs": [],
   "source": []
  }
 ],
 "metadata": {
  "kernelspec": {
   "display_name": "Python 3",
   "language": "python",
   "name": "python3"
  },
  "language_info": {
   "codemirror_mode": {
    "name": "ipython",
    "version": 3
   },
   "file_extension": ".py",
   "mimetype": "text/x-python",
   "name": "python",
   "nbconvert_exporter": "python",
   "pygments_lexer": "ipython3",
   "version": "3.4.3"
  }
 },
 "nbformat": 4,
 "nbformat_minor": 0
}
