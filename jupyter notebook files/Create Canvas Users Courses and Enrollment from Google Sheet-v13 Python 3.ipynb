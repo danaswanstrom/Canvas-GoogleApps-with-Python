{
 "cells": [
  {
   "cell_type": "markdown",
   "metadata": {},
   "source": [
    "BUGS:\n",
    "If the Course_ID column in the spreadsheet is the same length as the Course_Name Column, the while loops cause problems. Need to add something that prevents the while loop from causing an error if it tries to check for a row that does not exist.\n",
    "\n",
    "Step 1:\n",
    "Google Spreadsheet must be shared with the 408860165935-29k6t9475i5r4ake48l0b5qcmg7p90ke@developer.gserviceaccount.com email address.\n",
    "\n",
    "Step 2:\n",
    "This page will help with creating the csv files for canvas. \n",
    "http://guides.instructure.com/m/4214/l/164118-how-do-i-format-csv-text-files-for-uploading-data-into-canvas\n",
    "https://canvas.instructure.com/doc/api/file.sis_csv.html\n",
    "\n",
    "\n",
    "IDEAS:\n",
    "The listGoogleSheets function has a way to list all the sheets shared to the crazy Gmail address above. This is how the script could then cycle through all the spreadsheets and add stuff to the files for Canvas.\n",
    "\n",
    "Creating Empty Dataframe that will be used for the CSV exports\n",
    "http://technicaltidbit.blogspot.com/2013/06/create-empty-dataframe-in-pandas.html\n",
    "\n",
    "Actually, problem what to just set up columns and then append a row onto each \n",
    "\n",
    "\n",
    "File Formats\n",
    "courses.csv\n",
    "\n",
    "course_id,\tshort_name, \tlong_name,\tstatus,\taccount_id\n",
    "\n",
    "enrollments.csv\n",
    "\n",
    "course_id,\tuser_id,\t  role,\t status\n",
    "\n",
    "\n",
    "Over all plan:\n",
    "For each row in the Google spreadsheet, iterate each cell. Since a user_id will be needed and not their login_id we hopefully can use the Canvas api (https://canvas.instructure.com/doc/api/users.html#User) to look up that information Each cell will then append a row to either the courses or enrollments data frame. At the very end the dataframes converted to csv files.\n"
   ]
  },
  {
   "cell_type": "code",
   "execution_count": null,
   "metadata": {
    "collapsed": false
   },
   "outputs": [],
   "source": [
    "#config.py file\n",
    "\n",
    "#You will need to obtain a Google Secrets file as a json file\n",
    "#It is best practice to use a service Google account\n",
    "#Directions on obtaining that file can be found at http://pbpython.com/pandas-google-forms-part1.html"
   ]
  },
  {
   "cell_type": "code",
   "execution_count": 22,
   "metadata": {
    "collapsed": false
   },
   "outputs": [],
   "source": [
    "#Code to import all of the functions that we will need\n",
    "from __future__ import print_function\n",
    "import gspread\n",
    "from oauth2client.client import SignedJwtAssertionCredentials\n",
    "import pandas as pd\n",
    "import numpy as np\n",
    "import json\n",
    "import matplotlib.pyplot as plt\n",
    "import seaborn as sns\n",
    "import csv\n",
    "\n",
    "#code to connect to Google Spreadsheets\n",
    "#T\n",
    "SECRETS_FILE = \"C:\\Temp\\GoogleSpreadsheettoCanvasPythn-8a3815cd54b0.json\"\n",
    "SCOPE = [\"https://spreadsheets.google.com/feeds\"]\n",
    "json_key = json.load(open(SECRETS_FILE))\n",
    "# Authenticate using the signed key\n",
    "#credentials = SignedJwtAssertionCredentials(json_key['client_email'],\n",
    "#                                           json_key['private_key'], SCOPE)\n",
    "credentials = SignedJwtAssertionCredentials(json_key['client_email'],\n",
    "bytes(json_key['private_key'], 'UTF-8'),\n",
    "SCOPE)\n",
    "\n",
    "gc = gspread.authorize(credentials)\n",
    "\n",
    "#CSV Formats\n",
    "columnsCoursesCSV = [\"course_id\", \"long_name\", \"short_name\", \"account_id\", \"status\"]\n",
    "columnsEnrollmentCSV = [\"course_id\",\"user_id\",\"role\",\"status\"]\n",
    "\n",
    "#Define location of file exports. Must have a trailing \"/\" for it to work.\n",
    "csvExportLocation = \"G:/Inbox/\"\n",
    "\n",
    "\n",
    "#The first group of funtions are Skyward File injestions. Long term we want the script here to access the files from\n",
    "#a server that has fresh files each night.\n",
    "\n",
    "#csvfilelocation =  \"N:\\NHSIT\\SkywardtoCanvasExports\\SkywardtoCanvasExports\"\n",
    "#csvfilelocation =  \"//nhs00/nhsstaffresources/NHSIT/SkywardtoCanvasExports\"\n",
    "\n",
    "\n",
    "def listGoogleSheets():\n",
    "    \"\"\"\n",
    "    This function will just print out the list of Google Spreadsheets in the folder that the json file is pointing to.\n",
    "    \"\"\"\n",
    "    #Code to print out the Spreadsheets that are Available in Google\n",
    "    print(\"The following sheets are available\")\n",
    "    for sheet in gc.openall():\n",
    "        print(\"{} - {}\".format(sheet.title, sheet.id))\n",
    "    return(\"That's the List!\")\n",
    "\n",
    "\n",
    "def importSheet(workbookName):\n",
    "    \"\"\"\n",
    "    Given a string that is the workbookName, the first sheet in the workbook will be imported into Python as a dataframe\n",
    "    \"\"\"\n",
    "    workbook = gc.open(workbookName)\n",
    "    # Get the first sheet\n",
    "    firstSheet = workbook.sheet1\n",
    "    # Extract all data into a dataframe\n",
    "    firstSheetDataFrame = pd.DataFrame(firstSheet.get_all_records())\n",
    "    lowercaseColumnNames = [x.lower() for x in firstSheetDataFrame.columns.values]\n",
    "    firstSheetDataFrame.columns = lowercaseColumnNames\n",
    "    return firstSheetDataFrame\n",
    "\n",
    "def coursesDF(workbookName,accountID):\n",
    "    \"\"\"\n",
    "    Inputs: Name of a Google Spreadsheet that has been shared with the account whose Oauth Credentials are used in this script\n",
    "    and an accountID for canvas.\n",
    "    \n",
    "    Variables needed for this function:\n",
    "    Global Variables:\n",
    "    columnsCoursesCSV: list of the column names needed for the Canvas import\n",
    "    \n",
    "    Helper Functions:\n",
    "    importSheet()\n",
    "    \n",
    "    Returns: dataframe called enrollments\n",
    "    \"\"\"\n",
    "    importedGoogleSheet = importSheet(workbookName)\n",
    "    index = 0\n",
    "    courses = pd.DataFrame(data=np.zeros((0,len(columnsCoursesCSV))), columns=columnsCoursesCSV)\n",
    "    while index < len(importedGoogleSheet.index) and importedGoogleSheet.course_name[index] != '':\n",
    "        courses = courses.append({'course_id':importedGoogleSheet.loc[index,\"course_id\"], 'long_name':importedGoogleSheet.loc[index,\"course_name\"],'short_name':importedGoogleSheet.loc[index,\"course_name\"], 'account_id':accountID, 'status':'active'},ignore_index=True)\n",
    "        index += 1\n",
    "    return courses\n",
    "\n",
    "def enrollmentsDF(workbookName):\n",
    "    \"\"\"\n",
    "    Inputs: Name of a Google Spreadsheet that has been shared with the account whose Oauth Credentials are used in this script.\n",
    "        \n",
    "    Variables needed for this function:\n",
    "    Global Variables:\n",
    "    lowercaseColumnNames: this contains a list of the column names from the imported Google spreadsheet where all letters are converted to lowercase\n",
    "    columnsEnrollmentCSV: list of the column names needed for the Canvas import\n",
    "    \n",
    "    Helper Functions:\n",
    "    importSheet()\n",
    "    \n",
    "    Returns: dataframe called enrollments\n",
    "    \n",
    "    \"\"\"\n",
    "    index = 0\n",
    "    importedGoogleSheet = importSheet(workbookName)\n",
    "    \n",
    "    lowercaseColumnNames = importedGoogleSheet.columns\n",
    "    #create an empty dataframe based on the required columns for a Canvas csv.\n",
    "    enrollments = pd.DataFrame(data=np.zeros((0,len(columnsEnrollmentCSV))), columns=columnsEnrollmentCSV)\n",
    "        \n",
    "    #For enrollments to be created for a course, the course must have a name given in the Google spreadsheet. Next line checks for blank course names.\n",
    "    while index < len(importedGoogleSheet.index) and importedGoogleSheet.course_name[index] != '':\n",
    "        #Three sections of code to add principals (which get added as teachers), teachers, and then students\n",
    "        #The range for each section is based on the number of columns in the original google sheet\n",
    "        #Each section has a loop that goes through possible column names that might be in the Google spreadsheet\n",
    "            #The first if determines if a column name exists in the Google spreadsheet.\n",
    "                #The second if checks to make sure that that row has a person in that column \n",
    "                #A new row is added to the enrollments dataframe if both conditions are met for the possible column names\n",
    "        \n",
    "        for x in range(1,len(importedGoogleSheet.columns)):\n",
    "            possibleColumnName = \"principal\" + str(x)\n",
    "            if possibleColumnName in lowercaseColumnNames:\n",
    "                try:\n",
    "                    sis_id = canvasStaffandStudentsIndexed.loc[importedGoogleSheet.loc[index,possibleColumnName],'user_id']\n",
    "                    enrollments = enrollments.append({'course_id':importedGoogleSheet.loc[index,\"course_id\"], 'user_id':sis_id,'role':'Teacher',  'status':'active'},ignore_index=True)\n",
    "                except: \n",
    "                    if importedGoogleSheet.loc[index,possibleColumnName] != '': \n",
    "                        enrollments = enrollments.append({'course_id':importedGoogleSheet.loc[index,\"course_id\"], 'user_id':999998,'role':'Student',  'status':'active'},ignore_index=True)\n",
    "        \n",
    "        for x in range(1,len(importedGoogleSheet.columns)):\n",
    "            possibleColumnName = \"teacher\" + str(x)\n",
    "            if possibleColumnName in lowercaseColumnNames:\n",
    "                try:\n",
    "                    sis_id = canvasStaffandStudentsIndexed.loc[importedGoogleSheet.loc[index,possibleColumnName],'user_id']\n",
    "                    enrollments = enrollments.append({'course_id':importedGoogleSheet.loc[index,\"course_id\"], 'user_id':sis_id,'role':'Teacher',  'status':'active'},ignore_index=True)\n",
    "                except:\n",
    "                    if importedGoogleSheet.loc[index,possibleColumnName] != '':\n",
    "                        enrollments = enrollments.append({'course_id':importedGoogleSheet.loc[index,\"course_id\"], 'user_id':999998,'role':'Student',  'status':'active'},ignore_index=True)\n",
    "        \n",
    "        for x in range(1,len(importedGoogleSheet.columns)):\n",
    "            possibleColumnName = \"student\" + str(x)\n",
    "            if possibleColumnName in lowercaseColumnNames:\n",
    "                try:\n",
    "                    sis_id = canvasStaffandStudentsIndexed.loc[importedGoogleSheet.loc[index,possibleColumnName],'user_id']\n",
    "                    enrollments = enrollments.append({'course_id':importedGoogleSheet.loc[index,\"course_id\"], 'user_id':sis_id,'role':'Student',  'status':'active'},ignore_index=True)\n",
    "                except:\n",
    "                    if importedGoogleSheet.loc[index,possibleColumnName] != '':\n",
    "                        enrollments = enrollments.append({'course_id':importedGoogleSheet.loc[index,\"course_id\"], 'user_id':999998,'role':'Student',  'status':'active'},ignore_index=True)\n",
    "        \n",
    "        #index counter takes us through each row of the dataframe\n",
    "        index +=1\n",
    "    \n",
    "    \n",
    "    return enrollments\n",
    "\n",
    "\n",
    "def createCSVsCoursesEnrollmentsTerms(workbookName, AccountID):\n",
    "    \"\"\"\n",
    "    This fuction will take in Google Spreadsheet name.\n",
    "    Return: A list of lists composed of each row of the spread\n",
    "    \"\"\"\n",
    "    terms = importSheet(\"terms\")\n",
    "    terms.to_csv(csvExportLocation +\"terms.csv\", index=False, float_format='%.0f')\n",
    "    enrollments = enrollmentsDF(workbookName)\n",
    "    courses = coursesDF(workbookName, AccountID)\n",
    "    enrollments.to_csv(csvExportLocation +\"enrollments.csv\", index=False, float_format='%.0f')\n",
    "    courses.to_csv(csvExportLocation +\"courses.csv\", index=False, float_format='%.0f')\n",
    "    return print(\"Done with CSV Files. Files located in \" + csvExportLocation)\n",
    "\n",
    "     \n",
    "#These lines import some spreadsheets from Google that are imported from Skyward each day.\n",
    "#The imports first get a student list and then a staff list and then removed duplicates\n",
    "#The two dataframes are then combined into one so that any lookups of the student user_id can be made from one dataframe\n",
    "canvasStudentImport = importSheet(\"1801Student\")\n",
    "canvasStudentImport.drop_duplicates(inplace = True)\n",
    "canvasStudentIndexed = canvasStudentImport.set_index(['login_id'])\n",
    "\n",
    "canvasStaffImport = importSheet(\"1801Staff\")\n",
    "canvasStaffImport.drop_duplicates(inplace = True)\n",
    "canvasStaffIndexed = canvasStaffImport.set_index(['login_id'])\n",
    "\n",
    "\n",
    "\n",
    "canvasStaffandStudentsIndexed = pd.concat([canvasStudentIndexed, canvasStaffIndexed], axis=0)\n",
    "\n"
   ]
  },
  {
   "cell_type": "code",
   "execution_count": 6,
   "metadata": {
    "collapsed": true
   },
   "outputs": [],
   "source": [
    "### Code to import CSV files into Canvas\n",
    "import requests\n",
    "import json\n",
    "csvExportLocation = \"G:/Inbox/\"\n",
    "token = \"5278~XiOGA1DzWNO1dYvtHtgbHOcIGSlYQI2HVghE3EcnoEBlnF0H3kTo3cDI10DdPm1K\"\n",
    "account_id = 1\n",
    "base_api_url = 'https://ecasd.test.instructure.com/api/'\n",
    "\n",
    "\n",
    "### Post csv or zip file for Sis Import. Just change the file name.\n",
    "def sisIMPORT():\n",
    "    path = 'v1/accounts/{account_id}/sis_imports'\n",
    "    url = base_api_url + path.format(account_id=account_id)\n",
    "    files = {'attachment': open('G:/Inbox/courses.csv', 'rb')}\n",
    "    headers = {'Authorization':'Bearer {token}'.format(token=token)}\n",
    "    res = requests.post(url, files=files, headers = headers)"
   ]
  },
  {
   "cell_type": "code",
   "execution_count": 10,
   "metadata": {
    "collapsed": false
   },
   "outputs": [
    {
     "data": {
      "text/plain": [
       "6"
      ]
     },
     "execution_count": 10,
     "metadata": {},
     "output_type": "execute_result"
    }
   ],
   "source": [
    "testdf = importSheet(\"All Sherman RTI\")\n",
    "len(testdf.index)"
   ]
  },
  {
   "cell_type": "code",
   "execution_count": 18,
   "metadata": {
    "collapsed": false
   },
   "outputs": [
    {
     "name": "stdout",
     "output_type": "stream",
     "text": [
      "Done with CSV Files. Files located in G:/Inbox/\n"
     ]
    }
   ],
   "source": [
    "createCSVsCoursesEnrollmentsTerms(\"All Sherman RTI\", 180)"
   ]
  },
  {
   "cell_type": "code",
   "execution_count": null,
   "metadata": {
    "collapsed": true
   },
   "outputs": [],
   "source": [
    "sisIMPORT()"
   ]
  },
  {
   "cell_type": "code",
   "execution_count": 17,
   "metadata": {
    "collapsed": false
   },
   "outputs": [
    {
     "data": {
      "text/html": [
       "<div>\n",
       "<table border=\"1\" class=\"dataframe\">\n",
       "  <thead>\n",
       "    <tr style=\"text-align: right;\">\n",
       "      <th></th>\n",
       "      <th>course_id</th>\n",
       "      <th>long_name</th>\n",
       "      <th>short_name</th>\n",
       "      <th>account_id</th>\n",
       "      <th>status</th>\n",
       "    </tr>\n",
       "  </thead>\n",
       "  <tbody>\n",
       "    <tr>\n",
       "      <th>0</th>\n",
       "      <td>SHE-001</td>\n",
       "      <td>Sherman Swimming</td>\n",
       "      <td>Sherman Swimming</td>\n",
       "      <td>180</td>\n",
       "      <td>active</td>\n",
       "    </tr>\n",
       "    <tr>\n",
       "      <th>1</th>\n",
       "      <td>SHE-002</td>\n",
       "      <td>Karate</td>\n",
       "      <td>Karate</td>\n",
       "      <td>180</td>\n",
       "      <td>active</td>\n",
       "    </tr>\n",
       "    <tr>\n",
       "      <th>2</th>\n",
       "      <td>SHE-003</td>\n",
       "      <td>Summative Class</td>\n",
       "      <td>Summative Class</td>\n",
       "      <td>180</td>\n",
       "      <td>active</td>\n",
       "    </tr>\n",
       "    <tr>\n",
       "      <th>3</th>\n",
       "      <td>SHE-004</td>\n",
       "      <td>Running Fast</td>\n",
       "      <td>Running Fast</td>\n",
       "      <td>180</td>\n",
       "      <td>active</td>\n",
       "    </tr>\n",
       "    <tr>\n",
       "      <th>4</th>\n",
       "      <td>SHE-005</td>\n",
       "      <td>Cooking Class</td>\n",
       "      <td>Cooking Class</td>\n",
       "      <td>180</td>\n",
       "      <td>active</td>\n",
       "    </tr>\n",
       "    <tr>\n",
       "      <th>5</th>\n",
       "      <td>SHE-006</td>\n",
       "      <td>In the Running</td>\n",
       "      <td>In the Running</td>\n",
       "      <td>180</td>\n",
       "      <td>active</td>\n",
       "    </tr>\n",
       "    <tr>\n",
       "      <th>6</th>\n",
       "      <td>SHE-007</td>\n",
       "      <td>Cool Kids Like this</td>\n",
       "      <td>Cool Kids Like this</td>\n",
       "      <td>180</td>\n",
       "      <td>active</td>\n",
       "    </tr>\n",
       "  </tbody>\n",
       "</table>\n",
       "</div>"
      ],
      "text/plain": [
       "  course_id            long_name           short_name  account_id  status\n",
       "0   SHE-001     Sherman Swimming     Sherman Swimming         180  active\n",
       "1   SHE-002               Karate               Karate         180  active\n",
       "2   SHE-003      Summative Class      Summative Class         180  active\n",
       "3   SHE-004         Running Fast         Running Fast         180  active\n",
       "4   SHE-005        Cooking Class        Cooking Class         180  active\n",
       "5   SHE-006       In the Running       In the Running         180  active\n",
       "6   SHE-007  Cool Kids Like this  Cool Kids Like this         180  active"
      ]
     },
     "execution_count": 17,
     "metadata": {},
     "output_type": "execute_result"
    }
   ],
   "source": [
    "coursesDF(\"All Sherman RTI\", 180)"
   ]
  },
  {
   "cell_type": "code",
   "execution_count": null,
   "metadata": {
    "collapsed": true
   },
   "outputs": [],
   "source": []
  },
  {
   "cell_type": "code",
   "execution_count": null,
   "metadata": {
    "collapsed": true
   },
   "outputs": [],
   "source": []
  },
  {
   "cell_type": "code",
   "execution_count": null,
   "metadata": {
    "collapsed": true
   },
   "outputs": [],
   "source": []
  },
  {
   "cell_type": "code",
   "execution_count": null,
   "metadata": {
    "collapsed": true
   },
   "outputs": [],
   "source": []
  }
 ],
 "metadata": {
  "kernelspec": {
   "display_name": "Python 3",
   "language": "python",
   "name": "python3"
  },
  "language_info": {
   "codemirror_mode": {
    "name": "ipython",
    "version": 3
   },
   "file_extension": ".py",
   "mimetype": "text/x-python",
   "name": "python",
   "nbconvert_exporter": "python",
   "pygments_lexer": "ipython3",
   "version": "3.4.3"
  }
 },
 "nbformat": 4,
 "nbformat_minor": 0
}
